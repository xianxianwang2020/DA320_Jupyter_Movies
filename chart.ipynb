{
 "cells": [
  {
   "cell_type": "code",
   "execution_count": 32,
   "id": "a1f656e2-8a4c-4fa4-839a-ea0a42beccb3",
   "metadata": {},
   "outputs": [
    {
     "data": {
      "text/plain": [
       "Text(0, 0.5, 'Score')"
      ]
     },
     "execution_count": 32,
     "metadata": {},
     "output_type": "execute_result"
    },
    {
     "data": {
      "image/png": "[encoded data removed]",
      "text/plain": [
       "<Figure size 432x288 with 1 Axes>"
      ]
     },
     "metadata": {},
     "output_type": "display_data"
    }
   ],
   "source": [
    "import json\n",
    "# open username and password from another file.\n",
    "with open('C:\\\\Users\\\\xianx\\\\Documents\\\\xianw_secret.json') as f:\n",
    "      data = json.load(f)\n",
    "      username = data['username']\n",
    "      password = data['password']\n",
    "#print (username+\" :\" +password)\n",
    "\n",
    "# import pyodbc\n",
    "import pyodbc\n",
    "# setup connection to SQLserver, with specific credentials\n",
    "connection=pyodbc.connect(\"DRIVER={SQL Server};\"\n",
    "                          \"SERVER=LAPTOP-8VUQJOSL;\"\n",
    "                          \"DATABASE=python_movies;\"\n",
    "                          \"Trusted_Connection=Yes;\"\n",
    "                          \"UID=\"+username+\";\"\n",
    "                          \"PWD=\"+password)\n",
    "cursor=connection.cursor()\n",
    "sql=\"SELECT avg(Score),YEAR(ReleaseDate) as ReleaseYear from [dbo].[MetacriticMovies] GROUP BY YEAR(ReleaseDate) order by year(ReleaseDate)\"\n",
    "cursor.execute(sql)\n",
    "avgScore=cursor.fetchall()\n",
    "#print(rows)\n",
    "\n",
    "# import library\n",
    "import numpy as np\n",
    "import matplotlib.pyplot as plt\n",
    "import matplotlib as mpl\n",
    "from cycler import cycler\n",
    "\n",
    "plt.style.use('dark_background')\n",
    "\n",
    "years=[]\n",
    "avgs=[]\n",
    "\n",
    "#metaplotlib hitogram\n",
    "#import numpy as np\n",
    "\n",
    "for row in avgScore:\n",
    "     avgs.append(row[0])\n",
    "     years.append(row[1])\n",
    "     plt.plot(row[1],row[0],'bo', linewidth=2, markersize=8)\n",
    "        \n",
    "# add lables\n",
    "plt.title('AVG Score Movies Per Year')\n",
    "plt.xlabel('Year')\n",
    "plt.ylabel('Score')\n",
    "\n",
    "\n",
    "\n"
   ]
  },
  {
   "cell_type": "code",
   "execution_count": null,
   "id": "0ea6b691-aad1-4973-978b-b32e64dab2bf",
   "metadata": {},
   "outputs": [],
   "source": []
  },
  {
   "cell_type": "code",
   "execution_count": null,
   "id": "8310ca43-7b43-405a-93f6-765d17501e6e",
   "metadata": {},
   "outputs": [],
   "source": []
  }
 ],
 "metadata": {
  "kernelspec": {
   "display_name": "Python 3 (ipykernel)",
   "language": "python",
   "name": "python3"
  },
  "language_info": {
   "codemirror_mode": {
    "name": "ipython",
    "version": 3
   },
   "file_extension": ".py",
   "mimetype": "text/x-python",
   "name": "python",
   "nbconvert_exporter": "python",
   "pygments_lexer": "ipython3",
   "version": "3.9.7"
  }
 },
 "nbformat": 4,
 "nbformat_minor": 5
}
