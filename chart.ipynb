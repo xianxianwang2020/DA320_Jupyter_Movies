{
 "cells": [
  {
   "cell_type": "code",
   "execution_count": 5,
   "id": "a1f656e2-8a4c-4fa4-839a-ea0a42beccb3",
   "metadata": {},
   "outputs": [
    {
     "name": "stdout",
     "output_type": "stream",
     "text": [
      "[(425, 2010), (519, 2011), (547, 2012), (619, 2013), (661, 2014), (636, 2015), (610, 2016), (610, 2017), (610, 2018), (566, 2019), (539, 2020)]\n"
     ]
    },
    {
     "data": {
      "text/plain": [
       "Text(0, 0.5, 'Count of Movies')"
      ]
     },
     "execution_count": 5,
     "metadata": {},
     "output_type": "execute_result"
    },
    {
     "data": {
      "image/png": "[encoded data removed]",
      "text/plain": [
       "<Figure size 432x288 with 1 Axes>"
      ]
     },
     "metadata": {},
     "output_type": "display_data"
    }
   ],
   "source": [
    "import json\n",
    "# open username and password from another file.\n",
    "with open('C:\\\\Users\\\\xianx\\\\Documents\\\\xianw_secret.json') as f:\n",
    "      data = json.load(f)\n",
    "      username = data['username']\n",
    "      password = data['password']\n",
    "#print (username+\" :\" +password)\n",
    "\n",
    "# import pyodbc\n",
    "import pyodbc\n",
    "# setup connection to SQLserver, with specific credentials\n",
    "connection=pyodbc.connect(\"DRIVER={SQL Server};\"\n",
    "                          \"SERVER=LAPTOP-8VUQJOSL;\"\n",
    "                          \"DATABASE=python_movies;\"\n",
    "                          \"Trusted_Connection=Yes;\"\n",
    "                          \"UID=\"+username+\";\"\n",
    "                          \"PWD=\"+password)\n",
    "cursor=connection.cursor()\n",
    "sql=\"SELECT COUNT(1) AS NumberOfMovies,YEAR(ReleaseDate) as ReleaseYear from [dbo].[MetacriticMovies] Group by YEAR(ReleaseDate) order by year(ReleaseDate)\"\n",
    "cursor.execute(sql)\n",
    "rows=cursor.fetchall()\n",
    "print(rows)\n",
    "\n",
    "# import library\n",
    "import matplotlib.pyplot as plt\n",
    "plt.style.use('seaborn-whitegrid')\n",
    "\n",
    "#metaplotlib hitogram\n",
    "#import numpy as np\n",
    "\n",
    "for row in rows:\n",
    "    plt.plot(row[1],row[0],'o')\n",
    "# add lables\n",
    "plt.title('Number of Movies Per Year')\n",
    "plt.xlabel('Year')\n",
    "plt.ylabel('Count of Movies')"
   ]
  },
  {
   "cell_type": "code",
   "execution_count": null,
   "id": "0ea6b691-aad1-4973-978b-b32e64dab2bf",
   "metadata": {},
   "outputs": [],
   "source": []
  }
 ],
 "metadata": {
  "kernelspec": {
   "display_name": "Python 3 (ipykernel)",
   "language": "python",
   "name": "python3"
  },
  "language_info": {
   "codemirror_mode": {
    "name": "ipython",
    "version": 3
   },
   "file_extension": ".py",
   "mimetype": "text/x-python",
   "name": "python",
   "nbconvert_exporter": "python",
   "pygments_lexer": "ipython3",
   "version": "3.9.7"
  }
 },
 "nbformat": 4,
 "nbformat_minor": 5
}
