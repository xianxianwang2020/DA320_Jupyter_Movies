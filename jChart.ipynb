{
 "cells": [
  {
   "cell_type": "code",
   "execution_count": 10,
   "id": "1cceae93-e5fa-4b8a-b9ed-9992fc463837",
   "metadata": {},
   "outputs": [
    {
     "ename": "AttributeError",
     "evalue": "'pyodbc.Cursor' object has no attribute 'exectute'",
     "output_type": "error",
     "traceback": [
      "\u001b[1;31m---------------------------------------------------------------------------\u001b[0m",
      "\u001b[1;31mAttributeError\u001b[0m                            Traceback (most recent call last)",
      "\u001b[1;32m~\\AppData\\Local\\Temp/ipykernel_13576/2326229548.py\u001b[0m in \u001b[0;36m<module>\u001b[1;34m\u001b[0m\n\u001b[0;32m     28\u001b[0m \u001b[1;33m\u001b[0m\u001b[0m\n\u001b[0;32m     29\u001b[0m \u001b[0mcursor\u001b[0m\u001b[1;33m.\u001b[0m\u001b[0mexecute\u001b[0m\u001b[1;33m(\u001b[0m\u001b[0msql1\u001b[0m\u001b[1;33m)\u001b[0m\u001b[1;33m\u001b[0m\u001b[1;33m\u001b[0m\u001b[0m\n\u001b[1;32m---> 30\u001b[1;33m \u001b[0mcursor\u001b[0m\u001b[1;33m.\u001b[0m\u001b[0mexectute\u001b[0m\u001b[1;33m(\u001b[0m\u001b[0msql2\u001b[0m\u001b[1;33m)\u001b[0m\u001b[1;33m\u001b[0m\u001b[1;33m\u001b[0m\u001b[0m\n\u001b[0m\u001b[0;32m     31\u001b[0m \u001b[0mdata1\u001b[0m\u001b[1;33m=\u001b[0m\u001b[0mcursor\u001b[0m\u001b[1;33m.\u001b[0m\u001b[0mfetchall\u001b[0m\u001b[1;33m(\u001b[0m\u001b[1;33m)\u001b[0m\u001b[1;33m\u001b[0m\u001b[1;33m\u001b[0m\u001b[0m\n\u001b[0;32m     32\u001b[0m \u001b[0mdata2\u001b[0m\u001b[1;33m=\u001b[0m\u001b[0mcursor\u001b[0m\u001b[1;33m.\u001b[0m\u001b[0mfetchall\u001b[0m\u001b[1;33m(\u001b[0m\u001b[1;33m)\u001b[0m\u001b[1;33m\u001b[0m\u001b[1;33m\u001b[0m\u001b[0m\n",
      "\u001b[1;31mAttributeError\u001b[0m: 'pyodbc.Cursor' object has no attribute 'exectute'"
     ]
    }
   ],
   "source": [
    "import json\n",
    "# open username and password from another file.\n",
    "with open('C:\\\\Users\\\\xianx\\\\Documents\\\\xianw_secret.json') as f:\n",
    "      data = json.load(f)\n",
    "      username = data['username']\n",
    "      password = data['password']\n",
    "#print (username+\" :\" +password)\n",
    "\n",
    "# import pyodbc\n",
    "import pyodbc\n",
    "\n",
    "# setup connection to SQLserver, with specific credentials\n",
    "connection=pyodbc.connect(\"DRIVER={SQL Server};\"\n",
    "                          \"SERVER=LAPTOP-8VUQJOSL;\"\n",
    "                          \"DATABASE=python_movies;\"\n",
    "                          \"Trusted_Connection=Yes;\"\n",
    "                          \"UID=\"+username+\";\"\n",
    "                          \"PWD=\"+password)\n",
    "cursor=connection.cursor()\n",
    "  \n",
    "import matplotlib.pyplot as plt\n",
    "import matplotlib.image as mpimg\n",
    "import numpy as np\n",
    "\n",
    "plt.rcParams.update({'figure.figsize':(8,5), 'figure.dpi':100})\n",
    "sql1='select count(Score), year(ReleaseDate) from [dbo].[MetacriticMovies] where score>85 group by year(ReleaseDate)'\n",
    "#sql2='select count(Score), year(ReleaseDate) from [dbo].[MetacriticMovies] where score<60 group by year(ReleaseDate)'\n",
    "\n",
    "cursor.execute(sql1)\n",
    "cursor.exectute(sql2)\n",
    "data1=cursor.fetchall()\n",
    "data2=cursor.fetchall()\n",
    "#X = np.arange(3)\n",
    "\n",
    "count1=[]\n",
    "years=[]\n",
    "\n",
    "for row1 in data1:\n",
    "     count1.append(row1[0])\n",
    "     years.append(row1[1])\n",
    "for row2 in data2: \n",
    "    count2.append(row2[0])\n",
    "\n",
    "fig = plt.figure()\n",
    "ax = fig.add_axes([0,0,1,1])\n",
    "ax.bar(years,count1,color = 'b')\n",
    "ax.bar(years,count2, bottom=count1,color = 'g')\n",
    "\n",
    "plt.gca().set(title='2010-2020 Top Movie Count Per Year',ylabel='Count');"
   ]
  },
  {
   "cell_type": "code",
   "execution_count": null,
   "id": "445fa03f-fdcf-41a9-8444-cbbb03d6d8b9",
   "metadata": {},
   "outputs": [],
   "source": []
  },
  {
   "cell_type": "code",
   "execution_count": null,
   "id": "c1c8c584-484e-4221-ac5a-1bc30ef615bf",
   "metadata": {},
   "outputs": [],
   "source": []
  },
  {
   "cell_type": "code",
   "execution_count": null,
   "id": "d642c0b4-d7c5-41be-bfcc-e761ef7fee50",
   "metadata": {},
   "outputs": [],
   "source": []
  }
 ],
 "metadata": {
  "kernelspec": {
   "display_name": "Python 3 (ipykernel)",
   "language": "python",
   "name": "python3"
  },
  "language_info": {
   "codemirror_mode": {
    "name": "ipython",
    "version": 3
   },
   "file_extension": ".py",
   "mimetype": "text/x-python",
   "name": "python",
   "nbconvert_exporter": "python",
   "pygments_lexer": "ipython3",
   "version": "3.9.7"
  }
 },
 "nbformat": 4,
 "nbformat_minor": 5
}
