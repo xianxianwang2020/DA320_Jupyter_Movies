{
 "cells": [
  {
   "cell_type": "code",
   "execution_count": null,
   "id": "6879e0e3-837d-431b-b2c2-d7fe25d45350",
   "metadata": {},
   "outputs": [],
   "source": [
    "import urllib3\n",
    "import re\n",
    "\n",
    "http=urllib3.PoolManager()\n",
    "# url of top 100 movies of year 2008\n",
    "url='https://www.metacritic.com/browse/movies/score/metascore/year/filtered?year_selected=2008&sort=desc&view=detailed'\n",
    "\n",
    "res=http.request('GET',url,headers={'User-Agent': 'Mozilla/5.0'})\n",
    "\n",
    "#Decod to utf-8\n",
    "webtext=res.data.decode('utf-8')\n",
    "#print(webtext)\n",
    "\n",
    "# grab the data from webtext\n",
    "titles=re.findall('<h3>[a-zA-Z0-9.,? ].*',webtext)\n",
    "Dates=re.findall('<span>(.*)<\\/span>',webtext)\n",
    "# generate the array for 100 movies, including title, date, metascore, image url\n",
    "movies=[100]\n",
    "for (int i=0, i<movies.length,i++)\n",
    "      movies.append(('Title: '+str(titles[i]))+'\\n'\n",
    "       'Release Date: ' +(str(Dates[i])))\n",
    "       \n",
    "for (int i=0, i<movies.length, i++)\n",
    "       print (str(movies[i])+'\\n')"
   ]
  },
  {
   "cell_type": "code",
   "execution_count": null,
   "id": "082c6b80-979d-4677-b7a6-9382a8527ed0",
   "metadata": {},
   "outputs": [],
   "source": [
    "# secret\n",
    "import json\n",
    "\n",
    "with open('C:\\\\Users\\\\xianx\\\\Documents\\\\xianw_secret.json') as f:\n",
    "    data = json.load(f)\n",
    "    username = data['username']\n",
    "    password = data['password']\n",
    "print(\"My usernmame is \"+username)\n",
    "print(\"My password is \"+password)"
   ]
  }
 ],
 "metadata": {
  "kernelspec": {
   "display_name": "Python 3 (ipykernel)",
   "language": "python",
   "name": "python3"
  },
  "language_info": {
   "codemirror_mode": {
    "name": "ipython",
    "version": 3
   },
   "file_extension": ".py",
   "mimetype": "text/x-python",
   "name": "python",
   "nbconvert_exporter": "python",
   "pygments_lexer": "ipython3",
   "version": "3.9.7"
  }
 },
 "nbformat": 4,
 "nbformat_minor": 5
}
