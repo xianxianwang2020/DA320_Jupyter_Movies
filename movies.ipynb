{
 "cells": [
  {
   "cell_type": "code",
   "execution_count": 37,
   "id": "959d9833-f824-450f-9bf8-f90d98d3d432",
   "metadata": {},
   "outputs": [],
   "source": [
    "#Xianxian Wang\n",
    "# 10/16/2021\n",
    "# This file is grab top 100 movies of 2008 from Metacritic website\n",
    "\n",
    "# import HTTP client urllib3， json\n",
    "import urllib3\n",
    "import json\n",
    "# open username and password from another file.\n",
    "with open('C:\\\\Users\\\\xianx\\\\Documents\\\\xianw_secret.json') as f:\n",
    "      data = json.load(f)\n",
    "      username = data['username']\n",
    "      password = data['password']\n",
    "#print (username+\" :\" +password)\n",
    "    \n",
    "# import pyodbc\n",
    "import pyodbc\n",
    "connection=pyodbc.connect(\"DRIVER={SQL Server};\"\n",
    "                          \"SERVER=LAPTOP-8VUQJOSL;\"\n",
    "                          \"DATABASE=python_movies;\"\n",
    "                          \"Trusted_Connection=Yes;\"\n",
    "                          \"UID=\"+username+\";\"\n",
    "                          \"PWD=\"+password)\n",
    "\n",
    "#disable the error warnings\n",
    "urllib3.disable_warnings()\n",
    "#Allows for arbitrary requests while keeping connection pools\n",
    "http = urllib3.PoolManager(cert_reqs='CERT_NONE')\n",
    "\n",
    "# url of top 100 movies of year 2008\n",
    "url='https://www.metacritic.com/browse/movies/score/metascore/year/filtered?year_selected=2008&sort=desc&view=detailed'\n",
    "# Open the URL as Browser, not as python urllib\n",
    "res=http.request('GET',url,headers={'User-Agent': 'Mozilla/5.0'})\n",
    "#Decode to utf-8\n",
    "webtext=res.data.decode('utf-8')\n",
    "#print(webtext)\n",
    "\n",
    "#!/usr/bin/python\n",
    "import re\n",
    "# grab the data from webtext\n",
    "MovieTitle=re.findall('alt=\"(.*)\" \\/><',webtext)\n",
    "ReleaseDate=re.findall('<span>(.*)<\\/span>',webtext)\n",
    "Metascore=re.findall('class=\"metascore_w large movie positive\">(.*)<',webtext)\n",
    "Description=re.findall('<div class=\"summary\">\\n(?:\\s*)(.*)',webtext)\n",
    "ThumbnailImage=re.findall('><img src=\"(.*)\" alt=\"(?!Metacritic logo\")',webtext)\n",
    "        \n",
    "cursor=connection.cursor()\n",
    "sql=\"Insert into Movies(MovieTitle, ReleaseDate,Metascore,Description,ThumbnailImage)values(?,?,?,?,?)\"\n",
    "args=\"MovieTitle\",\"ReleaseDate\",\"Metascore\",\"Description\",\"ThumbnailImage\"\n",
    "\n",
    "for  i in range (0,100):\n",
    "     args=MovieTitle[i],ReleaseDate[i],Metascore[i*2],Description[i],ThumbnailImage[i]\n",
    "     cursor.execute(sql,args)\n",
    "     cursor.commit()\n"
   ]
  },
  {
   "cell_type": "code",
   "execution_count": null,
   "id": "47163656-e93f-4490-983a-ef82c23c3575",
   "metadata": {},
   "outputs": [],
   "source": []
  },
  {
   "cell_type": "code",
   "execution_count": null,
   "id": "6b75080e-b903-4149-b606-04cc812d456c",
   "metadata": {},
   "outputs": [],
   "source": []
  },
  {
   "cell_type": "code",
   "execution_count": null,
   "id": "5a5eafdc-5b0c-41d3-8dc5-b209c1914d46",
   "metadata": {},
   "outputs": [],
   "source": []
  },
  {
   "cell_type": "code",
   "execution_count": null,
   "id": "9b1c61cf-efaa-4bff-ac83-49a2206f85af",
   "metadata": {},
   "outputs": [],
   "source": []
  },
  {
   "cell_type": "code",
   "execution_count": null,
   "id": "082c6b80-979d-4677-b7a6-9382a8527ed0",
   "metadata": {},
   "outputs": [],
   "source": []
  },
  {
   "cell_type": "code",
   "execution_count": null,
   "id": "a9ad2ab0-00b0-408b-ba7e-9129bd008748",
   "metadata": {},
   "outputs": [],
   "source": []
  }
 ],
 "metadata": {
  "kernelspec": {
   "display_name": "Python 3 (ipykernel)",
   "language": "python",
   "name": "python3"
  },
  "language_info": {
   "codemirror_mode": {
    "name": "ipython",
    "version": 3
   },
   "file_extension": ".py",
   "mimetype": "text/x-python",
   "name": "python",
   "nbconvert_exporter": "python",
   "pygments_lexer": "ipython3",
   "version": "3.9.7"
  }
 },
 "nbformat": 4,
 "nbformat_minor": 5
}
